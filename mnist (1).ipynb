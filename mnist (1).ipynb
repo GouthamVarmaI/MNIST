{
  "cells": [
    {
      "cell_type": "code",
      "execution_count": 1,
      "id": "1c376f9c",
      "metadata": {
        "id": "1c376f9c"
      },
      "outputs": [],
      "source": [
        "from keras.datasets import mnist\n",
        "from keras.models import Sequential\n",
        "from keras.layers import Dense,Dropout,Conv2D,MaxPool2D,Flatten\n",
        "from keras.utils import np_utils"
      ]
    },
    {
      "cell_type": "markdown",
      "id": "fb1f2359",
      "metadata": {
        "id": "fb1f2359"
      },
      "source": [
        "dense- neural network layers-how many neurons to be added\n",
        "conv2d-convolution layer-convoluing the image with the no.of filters we have mentioned\n",
        "max-pooling is used for pooling layer,reduces the size of the downsampling(reduces the size of the input)\n",
        "flatten-conversion from 2D to 1D\n",
        "dropout-some percentage of filters and neurons will be eliminated to avoid overfitting"
      ]
    },
    {
      "cell_type": "code",
      "execution_count": 2,
      "id": "d596f509",
      "metadata": {
        "id": "d596f509"
      },
      "outputs": [],
      "source": [
        "# to calculate accuracy\n",
        "from sklearn.metrics import accuracy_score\n"
      ]
    },
    {
      "cell_type": "code",
      "execution_count": 3,
      "id": "c2962254",
      "metadata": {
        "colab": {
          "base_uri": "https://localhost:8080/",
          "height": 0
        },
        "id": "c2962254",
        "outputId": "95e8b526-b562-482e-8801-c1409c819983"
      },
      "outputs": [
        {
          "output_type": "stream",
          "name": "stdout",
          "text": [
            "Downloading data from https://storage.googleapis.com/tensorflow/tf-keras-datasets/mnist.npz\n",
            "11493376/11490434 [==============================] - 0s 0us/step\n",
            "11501568/11490434 [==============================] - 0s 0us/step\n"
          ]
        }
      ],
      "source": [
        "# Loading the dataset\n",
        "(X_train,y_train),(X_test,y_test)=mnist.load_data()\n"
      ]
    },
    {
      "cell_type": "markdown",
      "id": "7b2b12fa",
      "metadata": {
        "id": "7b2b12fa"
      },
      "source": [
        "X_train is the image and y_train will be its label\n",
        "eg: x is cat image y is \"its a cat\""
      ]
    },
    {
      "cell_type": "code",
      "execution_count": 4,
      "id": "af54c25a",
      "metadata": {
        "id": "af54c25a"
      },
      "outputs": [],
      "source": [
        "#building the input vector from the 28x28 pixels\n",
        "X_train=X_train.reshape(X_train.shape[0],28,28,1) #1 is channel\n",
        "X_test=X_test.reshape(X_test.shape[0],28,28,1)\n",
        "X_train=X_train.astype('float32')\n",
        "X_test=X_test.astype('float32')\n",
        "                \n"
      ]
    },
    {
      "cell_type": "code",
      "execution_count": 5,
      "id": "864c6946",
      "metadata": {
        "id": "864c6946"
      },
      "outputs": [],
      "source": [
        "#normalising the data to help  with training(rescaling)\n",
        "X_train/=255        #X_train=1.0/255->implicit type conversion\n",
        "X_test/=255\n"
      ]
    },
    {
      "cell_type": "code",
      "execution_count": 6,
      "id": "713e528b",
      "metadata": {
        "colab": {
          "base_uri": "https://localhost:8080/",
          "height": 0
        },
        "id": "713e528b",
        "outputId": "7469183f-4b96-4fda-f444-0a9d06ad0d34"
      },
      "outputs": [
        {
          "output_type": "stream",
          "name": "stdout",
          "text": [
            "Shape before one-hot encoding:  (60000,)\n",
            "Shape after one hot encoding:  (60000, 10)\n"
          ]
        }
      ],
      "source": [
        "#one hot encoding using keras nummpy related utilities\n",
        "\n",
        "n_classes=10\n",
        "\n",
        "print(\"Shape before one-hot encoding: \",y_train.shape)\n",
        "Y_train=np_utils.to_categorical(y_train,n_classes)\n",
        "Y_test=np_utils.to_categorical(y_test,n_classes)\n",
        "print(\"Shape after one hot encoding: \",Y_train.shape)"
      ]
    },
    {
      "cell_type": "code",
      "execution_count": 7,
      "id": "319a6c04",
      "metadata": {
        "id": "319a6c04"
      },
      "outputs": [],
      "source": [
        "#building a linear stack of layers with the sequential  model\n",
        "model=Sequential()"
      ]
    },
    {
      "cell_type": "markdown",
      "id": "78a06b75",
      "metadata": {
        "id": "78a06b75"
      },
      "source": [
        "Mask,window,kernel are other names of filters \n",
        "In conv2D will pass no.of filters\n",
        "stride s means positions next  i.e 1 position next\n",
        "padding = valid means it will not do padding\n",
        "\n",
        "28,28,1 means image size is 28x28 and 1 means grey scale(1 channel)"
      ]
    },
    {
      "cell_type": "code",
      "execution_count": 8,
      "id": "4966a13a",
      "metadata": {
        "id": "4966a13a"
      },
      "outputs": [],
      "source": [
        "#Convolutional layer\n",
        "model.add(Conv2D(25,kernel_size=(3,3),strides=(1,1),padding='valid',activation='relu',input_shape=(28,28,1)))"
      ]
    },
    {
      "cell_type": "code",
      "execution_count": 9,
      "id": "5bb950d7",
      "metadata": {
        "id": "5bb950d7"
      },
      "outputs": [],
      "source": [
        "model.add(MaxPool2D(pool_size=(1,1)))"
      ]
    },
    {
      "cell_type": "code",
      "execution_count": 10,
      "id": "38ed1679",
      "metadata": {
        "id": "38ed1679"
      },
      "outputs": [],
      "source": [
        "#flattenn output of conv\n",
        "model.add(Flatten())"
      ]
    },
    {
      "cell_type": "code",
      "execution_count": 11,
      "id": "4f8e38c5",
      "metadata": {
        "id": "4f8e38c5"
      },
      "outputs": [],
      "source": [
        "#hidden layer\n",
        "model.add(Dense(100,activation='relu'))  #adding neurons"
      ]
    },
    {
      "cell_type": "code",
      "execution_count": 12,
      "id": "05a9567d",
      "metadata": {
        "id": "05a9567d"
      },
      "outputs": [],
      "source": [
        "#output layer\n",
        "model.add(Dense(10,activation='softmax'))\n",
        "\n",
        "#10=no.of classes\n",
        "#if it is categorical  we use softmax if is binary we use sigmoid"
      ]
    },
    {
      "cell_type": "code",
      "execution_count": 13,
      "id": "ef83adba",
      "metadata": {
        "id": "ef83adba"
      },
      "outputs": [],
      "source": [
        "#compiling the sequential model(training the model)\n",
        "model.compile(loss='categorical_crossentropy',metrics=['accuracy'],optimizer='adam')"
      ]
    },
    {
      "cell_type": "markdown",
      "id": "234086c7",
      "metadata": {
        "id": "234086c7"
      },
      "source": [
        "for every epoch we have to calculate loss i.e categorical cross entropy loss function .This is selected based on input.If the data is binary,then u shld use binary_crossentropy.If the input is 0-9 , then use sparse loss function\n",
        "eg:binary=[0,1]\n",
        "categorical=[[1,0,0],[0,1,0],[0,0,1]]\n",
        "sparse_categorical=[0,1,2]\n",
        "for back propogation we need to use optimizers-adam i.e adaptive moment gradient algorithm "
      ]
    },
    {
      "cell_type": "code",
      "execution_count": 14,
      "id": "fbb653d6",
      "metadata": {
        "scrolled": true,
        "colab": {
          "base_uri": "https://localhost:8080/",
          "height": 0
        },
        "id": "fbb653d6",
        "outputId": "04a59023-1e72-41c1-b242-44298a30202c"
      },
      "outputs": [
        {
          "output_type": "stream",
          "name": "stdout",
          "text": [
            "Epoch 1/10\n",
            "469/469 [==============================] - 40s 85ms/step - loss: 0.1890 - accuracy: 0.9439 - val_loss: 0.0722 - val_accuracy: 0.9764\n",
            "Epoch 2/10\n",
            "469/469 [==============================] - 37s 80ms/step - loss: 0.0550 - accuracy: 0.9838 - val_loss: 0.0552 - val_accuracy: 0.9818\n",
            "Epoch 3/10\n",
            "469/469 [==============================] - 38s 81ms/step - loss: 0.0334 - accuracy: 0.9900 - val_loss: 0.0495 - val_accuracy: 0.9844\n",
            "Epoch 4/10\n",
            "469/469 [==============================] - 38s 81ms/step - loss: 0.0199 - accuracy: 0.9940 - val_loss: 0.0487 - val_accuracy: 0.9836\n",
            "Epoch 5/10\n",
            "469/469 [==============================] - 38s 81ms/step - loss: 0.0130 - accuracy: 0.9962 - val_loss: 0.0555 - val_accuracy: 0.9832\n",
            "Epoch 6/10\n",
            "469/469 [==============================] - 38s 81ms/step - loss: 0.0100 - accuracy: 0.9970 - val_loss: 0.0526 - val_accuracy: 0.9851\n",
            "Epoch 7/10\n",
            "469/469 [==============================] - 38s 81ms/step - loss: 0.0068 - accuracy: 0.9981 - val_loss: 0.0516 - val_accuracy: 0.9846\n",
            "Epoch 8/10\n",
            "469/469 [==============================] - 38s 81ms/step - loss: 0.0057 - accuracy: 0.9982 - val_loss: 0.0603 - val_accuracy: 0.9844\n",
            "Epoch 9/10\n",
            "469/469 [==============================] - 39s 83ms/step - loss: 0.0057 - accuracy: 0.9983 - val_loss: 0.0626 - val_accuracy: 0.9835\n",
            "Epoch 10/10\n",
            "469/469 [==============================] - 38s 82ms/step - loss: 0.0052 - accuracy: 0.9984 - val_loss: 0.0667 - val_accuracy: 0.9847\n"
          ]
        }
      ],
      "source": [
        "#training the model for 10 epochs(fit the model)\n",
        "history=model.fit(X_train,Y_train,batch_size=128,epochs=10,validation_data=(X_test,Y_test))"
      ]
    },
    {
      "cell_type": "code",
      "execution_count": 15,
      "id": "0ed4f630",
      "metadata": {
        "id": "0ed4f630"
      },
      "outputs": [],
      "source": [
        "acc=history.history['accuracy']\n",
        "val_acc=history.history['val_accuracy']\n",
        "\n",
        "loss=history.history['loss']\n",
        "val_loss=history.history['val_loss']"
      ]
    },
    {
      "cell_type": "code",
      "execution_count": 16,
      "id": "617d239f",
      "metadata": {
        "id": "617d239f"
      },
      "outputs": [],
      "source": [
        "import matplotlib.pyplot as plt"
      ]
    },
    {
      "cell_type": "code",
      "execution_count": 17,
      "id": "d87baff6",
      "metadata": {
        "id": "d87baff6"
      },
      "outputs": [],
      "source": [
        "epochs=10"
      ]
    },
    {
      "cell_type": "code",
      "execution_count": 18,
      "id": "8568a9ab",
      "metadata": {
        "colab": {
          "base_uri": "https://localhost:8080/",
          "height": 1215
        },
        "id": "8568a9ab",
        "outputId": "5cb7d7e1-1817-4eb3-f576-ba85ea104580"
      },
      "outputs": [
        {
          "output_type": "execute_result",
          "data": {
            "text/plain": [
              "Text(0.5, 1.0, 'Training Loss vs Validation Loss')"
            ]
          },
          "metadata": {},
          "execution_count": 18
        },
        {
          "output_type": "display_data",
          "data": {
            "text/plain": [
              "<Figure size 720x720 with 1 Axes>"
            ],
            "image/png": "[encoded data removed]"
          },
          "metadata": {
            "needs_background": "light"
          }
        },
        {
          "output_type": "display_data",
          "data": {
            "text/plain": [
              "<Figure size 720x720 with 1 Axes>"
            ],
            "image/png": "[encoded data removed]"
          },
          "metadata": {
            "needs_background": "light"
          }
        }
      ],
      "source": [
        "plt.figure(figsize=(10,10))\n",
        "plt.subplot(1,2,1)\n",
        "plt.plot(range(epochs),acc,label='Training Accuracy')\n",
        "plt.plot(range(epochs),val_acc,label='Validation Accuracy')\n",
        "plt.legend(loc=\"lower right\")\n",
        "plt.title('Training Accuracy vs Validation Accuracy')\n",
        "\n",
        "plt.figure(figsize=(10,10))\n",
        "plt.subplot(1,2,1)\n",
        "plt.plot(range(epochs),loss,label='Validation loss')\n",
        "plt.legend(loc='lower right')\n",
        "plt.title('Training Loss vs Validation Loss')"
      ]
    }
  ],
  "metadata": {
    "kernelspec": {
      "display_name": "Python 3 (ipykernel)",
      "language": "python",
      "name": "python3"
    },
    "language_info": {
      "codemirror_mode": {
        "name": "ipython",
        "version": 3
      },
      "file_extension": ".py",
      "mimetype": "text/x-python",
      "name": "python",
      "nbconvert_exporter": "python",
      "pygments_lexer": "ipython3",
      "version": "3.9.7"
    },
    "colab": {
      "name": "mnist.ipynb",
      "provenance": []
    }
  },
  "nbformat": 4,
  "nbformat_minor": 5
}